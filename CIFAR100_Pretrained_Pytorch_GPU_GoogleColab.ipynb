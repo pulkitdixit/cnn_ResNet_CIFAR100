{
  "nbformat": 4,
  "nbformat_minor": 0,
  "metadata": {
    "colab": {
      "name": "CIFAR100_Pretrained_Pytorch_GPU_GoogleColab.ipynb",
      "provenance": [],
      "private_outputs": true,
      "include_colab_link": true
    },
    "kernelspec": {
      "name": "python3",
      "display_name": "Python 3"
    },
    "accelerator": "GPU"
  },
  "cells": [
    {
      "cell_type": "markdown",
      "metadata": {
        "id": "view-in-github",
        "colab_type": "text"
      },
      "source": [
        "<a href=\"https://colab.research.google.com/github/pulkitdixit/cnn_ResNet_CIFAR100/blob/master/CIFAR100_Pretrained_Pytorch_GPU_GoogleColab.ipynb\" target=\"_parent\"><img src=\"https://colab.research.google.com/assets/colab-badge.svg\" alt=\"Open In Colab\"/></a>"
      ]
    },
    {
      "cell_type": "code",
      "metadata": {
        "id": "GUBu92kTStJI",
        "colab_type": "code",
        "colab": {}
      },
      "source": [
        "from google.colab import drive\n",
        "drive.mount('/content/gdrive')"
      ],
      "execution_count": 0,
      "outputs": []
    },
    {
      "cell_type": "code",
      "metadata": {
        "id": "7FRlATtlS6p_",
        "colab_type": "code",
        "colab": {}
      },
      "source": [
        "import torch\n",
        "import torch.nn as nn\n",
        "from torch.utils import model_zoo\n",
        "from torch.hub import load_state_dict_from_url\n",
        "import torchvision\n",
        "from torchvision import models\n",
        "import torchvision.transforms as transforms"
      ],
      "execution_count": 0,
      "outputs": []
    },
    {
      "cell_type": "code",
      "metadata": {
        "id": "S0666SOoTBXS",
        "colab_type": "code",
        "colab": {}
      },
      "source": [
        "root = 'gdrive/My Drive/Google Colab/'\n",
        "batch_size = 100\n",
        "learn_rate = 0.001\n",
        "scheduler_step_size = 5\n",
        "scheduler_gamma = 0.5\n",
        "num_epochs = 50"
      ],
      "execution_count": 0,
      "outputs": []
    },
    {
      "cell_type": "code",
      "metadata": {
        "id": "CfdDvMV9TKHZ",
        "colab_type": "code",
        "colab": {}
      },
      "source": [
        "transform_train = transforms.Compose([transforms.RandomRotation(10),\n",
        "                                      transforms.RandomHorizontalFlip(),\n",
        "                                      transforms.ToTensor()\n",
        "                                     ])"
      ],
      "execution_count": 0,
      "outputs": []
    },
    {
      "cell_type": "code",
      "metadata": {
        "id": "9iIq9suhTjXN",
        "colab_type": "code",
        "colab": {}
      },
      "source": [
        "train_dataset = torchvision.datasets.CIFAR100(root = root, train=True, transform=transform_train, download=False)\n",
        "test_dataset = torchvision.datasets.CIFAR100(root = root, train=False, transform=transform_train, download=False)"
      ],
      "execution_count": 0,
      "outputs": []
    },
    {
      "cell_type": "code",
      "metadata": {
        "id": "-N4mKlRuT6Rr",
        "colab_type": "code",
        "colab": {}
      },
      "source": [
        "train_loader = torch.utils.data.DataLoader(dataset = train_dataset, batch_size = batch_size, shuffle = True, num_workers = 8)\n",
        "test_loader = torch.utils.data.DataLoader(dataset = test_dataset, batch_size = batch_size, shuffle = False, num_workers = 8)"
      ],
      "execution_count": 0,
      "outputs": []
    },
    {
      "cell_type": "code",
      "metadata": {
        "id": "eGAKMTjPidjV",
        "colab_type": "code",
        "colab": {}
      },
      "source": [
        "def upsample(x):\n",
        "  up = nn.Upsample(scale_factor=7, mode='bilinear')\n",
        "  return(up(x))"
      ],
      "execution_count": 0,
      "outputs": []
    },
    {
      "cell_type": "code",
      "metadata": {
        "id": "Tvzqtbdzhi2c",
        "colab_type": "code",
        "colab": {}
      },
      "source": [
        "def resnet18(pretrained=True, progress=True):\n",
        "  model = torchvision.models.resnet.ResNet(torchvision.models.resnet.BasicBlock, [2, 4, 4, 2])\n",
        "  if pretrained:\n",
        "        state_dict = load_state_dict_from_url('https://download.pytorch.org/models/resnet18-5c106cde.pth',\n",
        "                                              progress=progress)\n",
        "        model.load_state_dict(state_dict, strict=False)\n",
        "#   if pretrained:\n",
        "#     model.load_state_dict(model_zoo.load_url('https://download.pytorch.org/models/resnet18-5c106cde.pth', model_dir='./'))\n",
        "  return(model)"
      ],
      "execution_count": 0,
      "outputs": []
    },
    {
      "cell_type": "code",
      "metadata": {
        "id": "omUSo-5hIGCb",
        "colab_type": "code",
        "colab": {}
      },
      "source": [
        "#layers = [2, 4, 4, 2]\n",
        "#model = torchvision.models.resnet18(pretrained = True)\n",
        "model = resnet18(pretrained = True)\n",
        "\n",
        "#Enable GPU:\n",
        "use_cuda = True\n",
        "if use_cuda and torch.cuda.is_available():\n",
        "    model.cuda()\n",
        "    \n",
        "loss_fn = nn.CrossEntropyLoss()\n",
        "optimizer = torch.optim.RMSprop(model.parameters(), \n",
        "                                lr = learn_rate)\n",
        "scheduler = torch.optim.lr_scheduler.StepLR(optimizer, \n",
        "                                            step_size = scheduler_step_size, \n",
        "                                            gamma = scheduler_gamma)"
      ],
      "execution_count": 0,
      "outputs": []
    },
    {
      "cell_type": "code",
      "metadata": {
        "id": "RrRh781dJvRN",
        "colab_type": "code",
        "colab": {}
      },
      "source": [
        "train_acc_list = []\n",
        "test_acc_list = []\n",
        "for epochs in range(num_epochs):\n",
        "    scheduler.step()\n",
        "    correct = 0\n",
        "    total = 0\n",
        "    print('Current epoch: \\t\\t', epochs+1, '/', num_epochs)\n",
        "    #print('--------------------------------------------------')\n",
        "    for images, labels in train_loader:\n",
        "        #images = images.reshape(-1, 16*16)\n",
        "        images = images\n",
        "        labels = labels\n",
        "        if use_cuda and torch.cuda.is_available():\n",
        "            images = images.cuda()\n",
        "            labels = labels.cuda()\n",
        "            images = upsample(images).cuda()\n",
        "        \n",
        "        outputs = model(images)\n",
        "        loss = loss_fn(outputs, labels)\n",
        "        _, predicted = torch.max(outputs.data, 1)\n",
        "        total = total + labels.size(0)\n",
        "        correct = correct + (predicted == labels).sum().item()\n",
        "        \n",
        "        optimizer.zero_grad()\n",
        "        loss.backward()\n",
        "        optimizer.step()\n",
        "        \n",
        "    train_acc = correct/total\n",
        "    print('Training accuracy: \\t', train_acc)\n",
        "    #print('--------------------------------------------------')\n",
        "    train_acc_list.append(train_acc)\n",
        "    \n",
        "    model.eval()\n",
        "    with torch.no_grad():\n",
        "        correct = 0\n",
        "        total = 0\n",
        "        for images, labels in test_loader:\n",
        "            images = images\n",
        "            labels = labels\n",
        "            if use_cuda and torch.cuda.is_available():\n",
        "              images = images.cuda()\n",
        "              labels = labels.cuda()\n",
        "              images = upsample(images).cuda() \n",
        "            \n",
        "            outputs = model(images)\n",
        "            _, predicted = torch.max(outputs.data, 1)\n",
        "            total = total + labels.size(0)\n",
        "            correct = correct + (predicted == labels).sum().item()\n",
        "    test_acc = correct/total\n",
        "    print('Test Accuracy: \\t\\t', test_acc)\n",
        "    print('**************************************************')\n",
        "    test_acc_list.append(test_acc)\n",
        "    model.train()"
      ],
      "execution_count": 0,
      "outputs": []
    }
  ]
}