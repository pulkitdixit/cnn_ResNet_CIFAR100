{
  "nbformat": 4,
  "nbformat_minor": 0,
  "metadata": {
    "colab": {
      "name": "CIFAR100_Pytorch_GPU_GoogleColab.ipynb",
      "provenance": [],
      "include_colab_link": true
    },
    "kernelspec": {
      "name": "python3",
      "display_name": "Python 3"
    },
    "accelerator": "GPU"
  },
  "cells": [
    {
      "cell_type": "markdown",
      "metadata": {
        "id": "view-in-github",
        "colab_type": "text"
      },
      "source": [
        "<a href=\"https://colab.research.google.com/github/pulkitdixit/cnn_ResNet_CIFAR100/blob/master/CIFAR100_Pytorch_GPU_GoogleColab.ipynb\" target=\"_parent\"><img src=\"https://colab.research.google.com/assets/colab-badge.svg\" alt=\"Open In Colab\"/></a>"
      ]
    },
    {
      "cell_type": "code",
      "metadata": {
        "id": "GUBu92kTStJI",
        "colab_type": "code",
        "outputId": "b38ea3e5-c6c9-46ac-cddc-5cd1c27b2c27",
        "colab": {
          "base_uri": "https://localhost:8080/",
          "height": 121
        }
      },
      "source": [
        "from google.colab import drive\n",
        "drive.mount('/content/gdrive')"
      ],
      "execution_count": 1,
      "outputs": [
        {
          "output_type": "stream",
          "text": [
            "Go to this URL in a browser: https://accounts.google.com/o/oauth2/auth?client_id=947318989803-6bn6qk8qdgf4n4g3pfee6491hc0brc4i.apps.googleusercontent.com&redirect_uri=urn%3Aietf%3Awg%3Aoauth%3A2.0%3Aoob&scope=email%20https%3A%2F%2Fwww.googleapis.com%2Fauth%2Fdocs.test%20https%3A%2F%2Fwww.googleapis.com%2Fauth%2Fdrive%20https%3A%2F%2Fwww.googleapis.com%2Fauth%2Fdrive.photos.readonly%20https%3A%2F%2Fwww.googleapis.com%2Fauth%2Fpeopleapi.readonly&response_type=code\n",
            "\n",
            "Enter your authorization code:\n",
            "··········\n",
            "Mounted at /content/gdrive\n"
          ],
          "name": "stdout"
        }
      ]
    },
    {
      "cell_type": "code",
      "metadata": {
        "id": "7FRlATtlS6p_",
        "colab_type": "code",
        "colab": {}
      },
      "source": [
        "import torch\n",
        "import torch.nn as nn\n",
        "import torchvision\n",
        "import torchvision.transforms as transforms\n",
        "import matplotlib.pyplot as plt\n",
        "import numpy as np"
      ],
      "execution_count": 0,
      "outputs": []
    },
    {
      "cell_type": "code",
      "metadata": {
        "id": "S0666SOoTBXS",
        "colab_type": "code",
        "colab": {}
      },
      "source": [
        "root = 'gdrive/My Drive/Google Colab/'\n",
        "batch_size = 100\n",
        "learn_rate = 0.001\n",
        "scheduler_step_size = 8\n",
        "scheduler_gamma = 0.5\n",
        "num_epochs = 50"
      ],
      "execution_count": 0,
      "outputs": []
    },
    {
      "cell_type": "code",
      "metadata": {
        "id": "CfdDvMV9TKHZ",
        "colab_type": "code",
        "colab": {}
      },
      "source": [
        "transform_train = transforms.Compose([transforms.RandomRotation(10),\n",
        "                                      transforms.RandomHorizontalFlip(),\n",
        "                                      transforms.ToTensor()\n",
        "                                     ])"
      ],
      "execution_count": 0,
      "outputs": []
    },
    {
      "cell_type": "code",
      "metadata": {
        "id": "9iIq9suhTjXN",
        "colab_type": "code",
        "outputId": "f0f0dcad-0937-4bc4-994c-06f36a065cf4",
        "colab": {
          "base_uri": "https://localhost:8080/",
          "height": 50
        }
      },
      "source": [
        "train_dataset = torchvision.datasets.CIFAR100(root = root, train=True, transform=transform_train, download=True)\n",
        "test_dataset = torchvision.datasets.CIFAR100(root = root, train=False, transform=transform_train, download=True)"
      ],
      "execution_count": 5,
      "outputs": [
        {
          "output_type": "stream",
          "text": [
            "Files already downloaded and verified\n",
            "Files already downloaded and verified\n"
          ],
          "name": "stdout"
        }
      ]
    },
    {
      "cell_type": "code",
      "metadata": {
        "id": "-N4mKlRuT6Rr",
        "colab_type": "code",
        "colab": {}
      },
      "source": [
        "train_loader = torch.utils.data.DataLoader(dataset = train_dataset, batch_size = batch_size, shuffle = True, num_workers = 8)\n",
        "test_loader = torch.utils.data.DataLoader(dataset = test_dataset, batch_size = batch_size, shuffle = False, num_workers = 8)"
      ],
      "execution_count": 0,
      "outputs": []
    },
    {
      "cell_type": "code",
      "metadata": {
        "id": "r88Z9o9UUWDk",
        "colab_type": "code",
        "colab": {}
      },
      "source": [
        "def conv3x3(in_channels, out_channels, stride = 1):\n",
        "  return nn.Conv2d(in_channels, out_channels, stride = stride, kernel_size = 3, padding = 1)"
      ],
      "execution_count": 0,
      "outputs": []
    },
    {
      "cell_type": "code",
      "metadata": {
        "id": "2vyTl12AtM60",
        "colab_type": "code",
        "colab": {}
      },
      "source": [
        "class BasicBlock(nn.Module):\n",
        "  #expansion = 1\n",
        "  def __init__(self, in_channels, out_channels, stride = 1, downsample = None):\n",
        "    super(BasicBlock, self).__init__()\n",
        "    self.conv1 = conv3x3(in_channels, out_channels, stride)\n",
        "    self.bn1 = nn.BatchNorm2d(out_channels)\n",
        "    self.relu = nn.ReLU(inplace = True)\n",
        "    self.conv2 = conv3x3(out_channels, out_channels)\n",
        "    self.bn2 = nn.BatchNorm2d(out_channels)\n",
        "    self.downsample = downsample\n",
        "    self.stride = stride\n",
        "    \n",
        "  def forward(self, x):\n",
        "    residual = x\n",
        "    out = self.conv1(x)\n",
        "    out = self.bn1(out)\n",
        "    out = self.relu(out)\n",
        "    out = self.conv2(out)\n",
        "    out = self.bn2(out)\n",
        "    if self.downsample is not None:\n",
        "      residual = self.downsample(x)\n",
        "    out += residual\n",
        "    out = self.relu(out)\n",
        "    return out\n",
        "  "
      ],
      "execution_count": 0,
      "outputs": []
    },
    {
      "cell_type": "code",
      "metadata": {
        "id": "J3SNTX_Rv1nD",
        "colab_type": "code",
        "colab": {}
      },
      "source": [
        "class ResNet(nn.Module):\n",
        "  def __init__(self, block, layers, num_classes = 100):\n",
        "    super(ResNet, self).__init__()\n",
        "    \n",
        "    #Pre-basic block convolution:\n",
        "    self.in_channels = 32\n",
        "    self.conv = conv3x3(3, self.in_channels)\n",
        "    self.bn = nn.BatchNorm2d(self.in_channels)\n",
        "    self.relu = nn.ReLU(inplace = True)\n",
        "    self.drop_out = nn.Dropout(0.1)\n",
        "    \n",
        "    #Basic block 1:\n",
        "    self.layer1 = self.make_layer(block, 32, layers[0])\n",
        "    \n",
        "    #Basic block 2:\n",
        "    self.layer2 = self.make_layer(block, 64, layers[1], 2)\n",
        "    \n",
        "    #Basic block 3:\n",
        "    self.layer3 = self.make_layer(block, 128, layers[2], 2)\n",
        "    \n",
        "    #Basic block 3:\n",
        "    self.layer4 = self.make_layer(block, 256, layers[3], 2)\n",
        "    \n",
        "    #Post Block pooling and linearization:\n",
        "    self.maxpool = nn.AdaptiveMaxPool2d((1,1))\n",
        "    self.drop_out2 = nn.Dropout(0.1)\n",
        "    #self.linear = nn.Linear(32*block.expansion, 100)\n",
        "    self.linear = nn.Linear(256, 100)\n",
        "    \n",
        "  def make_layer(self, block, out_channels, layer_len, stride = 1):\n",
        "    downsample = None\n",
        "    if (stride != 1) or (self.in_channels != out_channels):\n",
        "      downsample = nn.Sequential(nn.Conv2d(self.in_channels, out_channels, kernel_size = 1, stride = stride),\n",
        "                                nn.BatchNorm2d(out_channels))\n",
        "    \n",
        "    layer = []\n",
        "    layer.append(block(self.in_channels, out_channels, stride, downsample))\n",
        "    self.in_channels = out_channels\n",
        "    for i in range(1, layer_len):\n",
        "      layer.append(block(out_channels, out_channels))\n",
        "    return nn.Sequential(*layer)\n",
        "  \n",
        "  def forward(self, x):\n",
        "    out = self.conv(x)\n",
        "    #print('First convolution: \\t', out.size())\n",
        "    out = self.bn(out)\n",
        "    out - self.relu(out)\n",
        "    out = self.drop_out(out)\n",
        "    \n",
        "    out = self.layer1(out)\n",
        "    out = self.drop_out(out)\n",
        "    #print('First layer: \\t\\t', out.size())\n",
        "    \n",
        "    out = self.layer2(out)\n",
        "    out = self.drop_out(out)\n",
        "    #print('Second layer: \\t\\t', out.size())\n",
        "    \n",
        "    out = self.layer3(out)\n",
        "    out = self.drop_out(out)\n",
        "    #print('Second layer: \\t\\t', out.size())\n",
        "    \n",
        "    out = self.layer4(out)\n",
        "    out = self.drop_out(out)\n",
        "    #print('Second layer: \\t\\t', out.size())\n",
        "    \n",
        "    out = self.maxpool(out)\n",
        "    out = self.drop_out2(out)\n",
        "    out = out.view(out.size(0), -1)\n",
        "    out = self.linear(out)\n",
        "    return(out)\n",
        "    "
      ],
      "execution_count": 0,
      "outputs": []
    },
    {
      "cell_type": "code",
      "metadata": {
        "id": "omUSo-5hIGCb",
        "colab_type": "code",
        "colab": {}
      },
      "source": [
        "layers = [2, 4, 4, 2]\n",
        "model = ResNet(BasicBlock, layers)\n",
        "\n",
        "#Enable GPU:\n",
        "use_cuda = True\n",
        "if use_cuda and torch.cuda.is_available():\n",
        "    model.cuda()\n",
        "    \n",
        "loss_fn = nn.CrossEntropyLoss()\n",
        "optimizer = torch.optim.RMSprop(model.parameters(), \n",
        "                                lr = learn_rate)\n",
        "\n",
        "scheduler = torch.optim.lr_scheduler.StepLR(optimizer, \n",
        "                                            step_size = scheduler_step_size, \n",
        "                                            gamma = scheduler_gamma)"
      ],
      "execution_count": 0,
      "outputs": []
    },
    {
      "cell_type": "code",
      "metadata": {
        "id": "RrRh781dJvRN",
        "colab_type": "code",
        "colab": {
          "base_uri": "https://localhost:8080/",
          "height": 1000
        },
        "outputId": "30462d1b-3129-414d-ac05-82f807b2d0af"
      },
      "source": [
        "train_acc_list = []\n",
        "test_acc_list = []\n",
        "for epochs in range(num_epochs):\n",
        "    scheduler.step()\n",
        "    correct = 0\n",
        "    total = 0\n",
        "    print('Current epoch: \\t\\t', epochs+1, '/', num_epochs)\n",
        "    #print('--------------------------------------------------')\n",
        "    for images, labels in train_loader:\n",
        "        #images = images.reshape(-1, 16*16)\n",
        "        images = images\n",
        "        labels = labels\n",
        "        if use_cuda and torch.cuda.is_available():\n",
        "            images = images.cuda()\n",
        "            labels = labels.cuda()\n",
        "        \n",
        "        outputs = model(images)\n",
        "        loss = loss_fn(outputs, labels)\n",
        "        _, predicted = torch.max(outputs.data, 1)\n",
        "        total = total + labels.size(0)\n",
        "        correct = correct + (predicted == labels).sum().item()\n",
        "        \n",
        "        optimizer.zero_grad()\n",
        "        loss.backward()\n",
        "        optimizer.step()\n",
        "        \n",
        "    train_acc = correct/total\n",
        "    print('Training accuracy: \\t', train_acc)\n",
        "    #print('--------------------------------------------------')\n",
        "    train_acc_list.append(train_acc)\n",
        "    \n",
        "    model.eval()\n",
        "    with torch.no_grad():\n",
        "        correct = 0\n",
        "        total = 0\n",
        "        for images, labels in test_loader:\n",
        "            images = images\n",
        "            labels = labels\n",
        "            if use_cuda and torch.cuda.is_available():\n",
        "              images = images.cuda()\n",
        "              labels = labels.cuda()\n",
        "        \n",
        "            outputs = model(images)\n",
        "            _, predicted = torch.max(outputs.data, 1)\n",
        "            total = total + labels.size(0)\n",
        "            correct = correct + (predicted == labels).sum().item()\n",
        "    test_acc = correct/total\n",
        "    print('Test Accuracy: \\t\\t', test_acc)\n",
        "    print('**************************************************')\n",
        "    test_acc_list.append(test_acc)\n",
        "    model.train()"
      ],
      "execution_count": 11,
      "outputs": [
        {
          "output_type": "stream",
          "text": [
            "Current epoch: \t\t 1 / 50\n"
          ],
          "name": "stdout"
        },
        {
          "output_type": "stream",
          "text": [
            "/usr/local/lib/python3.6/dist-packages/torch/optim/lr_scheduler.py:82: UserWarning: Detected call of `lr_scheduler.step()` before `optimizer.step()`. In PyTorch 1.1.0 and later, you should call them in the opposite order: `optimizer.step()` before `lr_scheduler.step()`.  Failure to do this will result in PyTorch skipping the first value of the learning rate schedule.See more details at https://pytorch.org/docs/stable/optim.html#how-to-adjust-learning-rate\n",
            "  \"https://pytorch.org/docs/stable/optim.html#how-to-adjust-learning-rate\", UserWarning)\n"
          ],
          "name": "stderr"
        },
        {
          "output_type": "stream",
          "text": [
            "Training accuracy: \t 0.06752\n",
            "Test Accuracy: \t\t 0.1409\n",
            "**************************************************\n",
            "Current epoch: \t\t 2 / 50\n",
            "Training accuracy: \t 0.16246\n",
            "Test Accuracy: \t\t 0.211\n",
            "**************************************************\n",
            "Current epoch: \t\t 3 / 50\n",
            "Training accuracy: \t 0.24458\n",
            "Test Accuracy: \t\t 0.2949\n",
            "**************************************************\n",
            "Current epoch: \t\t 4 / 50\n",
            "Training accuracy: \t 0.31332\n",
            "Test Accuracy: \t\t 0.3488\n",
            "**************************************************\n",
            "Current epoch: \t\t 5 / 50\n",
            "Training accuracy: \t 0.3692\n",
            "Test Accuracy: \t\t 0.3319\n",
            "**************************************************\n",
            "Current epoch: \t\t 6 / 50\n",
            "Training accuracy: \t 0.41366\n",
            "Test Accuracy: \t\t 0.4204\n",
            "**************************************************\n",
            "Current epoch: \t\t 7 / 50\n",
            "Training accuracy: \t 0.45082\n",
            "Test Accuracy: \t\t 0.4381\n",
            "**************************************************\n",
            "Current epoch: \t\t 8 / 50\n",
            "Training accuracy: \t 0.51832\n",
            "Test Accuracy: \t\t 0.4973\n",
            "**************************************************\n",
            "Current epoch: \t\t 9 / 50\n",
            "Training accuracy: \t 0.54788\n",
            "Test Accuracy: \t\t 0.5245\n",
            "**************************************************\n",
            "Current epoch: \t\t 10 / 50\n",
            "Training accuracy: \t 0.5703\n",
            "Test Accuracy: \t\t 0.5273\n",
            "**************************************************\n",
            "Current epoch: \t\t 11 / 50\n",
            "Training accuracy: \t 0.59002\n",
            "Test Accuracy: \t\t 0.5379\n",
            "**************************************************\n",
            "Current epoch: \t\t 12 / 50\n",
            "Training accuracy: \t 0.60716\n",
            "Test Accuracy: \t\t 0.5497\n",
            "**************************************************\n",
            "Current epoch: \t\t 13 / 50\n",
            "Training accuracy: \t 0.62426\n",
            "Test Accuracy: \t\t 0.5608\n",
            "**************************************************\n",
            "Current epoch: \t\t 14 / 50\n",
            "Training accuracy: \t 0.64216\n",
            "Test Accuracy: \t\t 0.5497\n",
            "**************************************************\n",
            "Current epoch: \t\t 15 / 50\n",
            "Training accuracy: \t 0.65574\n",
            "Test Accuracy: \t\t 0.5586\n",
            "**************************************************\n",
            "Current epoch: \t\t 16 / 50\n",
            "Training accuracy: \t 0.70316\n",
            "Test Accuracy: \t\t 0.5855\n",
            "**************************************************\n",
            "Current epoch: \t\t 17 / 50\n",
            "Training accuracy: \t 0.72414\n",
            "Test Accuracy: \t\t 0.5856\n",
            "**************************************************\n",
            "Current epoch: \t\t 18 / 50\n",
            "Training accuracy: \t 0.73002\n",
            "Test Accuracy: \t\t 0.5884\n",
            "**************************************************\n",
            "Current epoch: \t\t 19 / 50\n",
            "Training accuracy: \t 0.74212\n",
            "Test Accuracy: \t\t 0.5907\n",
            "**************************************************\n",
            "Current epoch: \t\t 20 / 50\n",
            "Training accuracy: \t 0.75486\n",
            "Test Accuracy: \t\t 0.5891\n",
            "**************************************************\n",
            "Current epoch: \t\t 21 / 50\n",
            "Training accuracy: \t 0.76236\n",
            "Test Accuracy: \t\t 0.5895\n",
            "**************************************************\n",
            "Current epoch: \t\t 22 / 50\n",
            "Training accuracy: \t 0.77112\n",
            "Test Accuracy: \t\t 0.5944\n",
            "**************************************************\n",
            "Current epoch: \t\t 23 / 50\n",
            "Training accuracy: \t 0.78062\n",
            "Test Accuracy: \t\t 0.5945\n",
            "**************************************************\n",
            "Current epoch: \t\t 24 / 50\n",
            "Training accuracy: \t 0.80974\n",
            "Test Accuracy: \t\t 0.6009\n",
            "**************************************************\n",
            "Current epoch: \t\t 25 / 50\n",
            "Training accuracy: \t 0.81848\n",
            "Test Accuracy: \t\t 0.6012\n",
            "**************************************************\n",
            "Current epoch: \t\t 26 / 50\n",
            "Training accuracy: \t 0.82344\n",
            "Test Accuracy: \t\t 0.6017\n",
            "**************************************************\n",
            "Current epoch: \t\t 27 / 50\n",
            "Training accuracy: \t 0.83054\n",
            "Test Accuracy: \t\t 0.6038\n",
            "**************************************************\n",
            "Current epoch: \t\t 28 / 50\n",
            "Training accuracy: \t 0.83512\n",
            "Test Accuracy: \t\t 0.6063\n",
            "**************************************************\n",
            "Current epoch: \t\t 29 / 50\n",
            "Training accuracy: \t 0.83956\n",
            "Test Accuracy: \t\t 0.6046\n",
            "**************************************************\n",
            "Current epoch: \t\t 30 / 50\n",
            "Training accuracy: \t 0.84654\n",
            "Test Accuracy: \t\t 0.6018\n",
            "**************************************************\n",
            "Current epoch: \t\t 31 / 50\n",
            "Training accuracy: \t 0.85164\n",
            "Test Accuracy: \t\t 0.5977\n",
            "**************************************************\n",
            "Current epoch: \t\t 32 / 50\n",
            "Training accuracy: \t 0.8647\n",
            "Test Accuracy: \t\t 0.6093\n",
            "**************************************************\n",
            "Current epoch: \t\t 33 / 50\n",
            "Training accuracy: \t 0.86588\n",
            "Test Accuracy: \t\t 0.6089\n",
            "**************************************************\n",
            "Current epoch: \t\t 34 / 50\n",
            "Training accuracy: \t 0.87124\n",
            "Test Accuracy: \t\t 0.6038\n",
            "**************************************************\n",
            "Current epoch: \t\t 35 / 50\n",
            "Training accuracy: \t 0.87392\n",
            "Test Accuracy: \t\t 0.6105\n",
            "**************************************************\n",
            "Current epoch: \t\t 36 / 50\n",
            "Training accuracy: \t 0.87444\n",
            "Test Accuracy: \t\t 0.6097\n",
            "**************************************************\n",
            "Current epoch: \t\t 37 / 50\n",
            "Training accuracy: \t 0.87972\n",
            "Test Accuracy: \t\t 0.6084\n",
            "**************************************************\n",
            "Current epoch: \t\t 38 / 50\n",
            "Training accuracy: \t 0.88386\n",
            "Test Accuracy: \t\t 0.607\n",
            "**************************************************\n",
            "Current epoch: \t\t 39 / 50\n",
            "Training accuracy: \t 0.88476\n",
            "Test Accuracy: \t\t 0.6065\n",
            "**************************************************\n",
            "Current epoch: \t\t 40 / 50\n",
            "Training accuracy: \t 0.893\n",
            "Test Accuracy: \t\t 0.6074\n",
            "**************************************************\n",
            "Current epoch: \t\t 41 / 50\n",
            "Training accuracy: \t 0.89452\n",
            "Test Accuracy: \t\t 0.611\n",
            "**************************************************\n",
            "Current epoch: \t\t 42 / 50\n",
            "Training accuracy: \t 0.8936\n",
            "Test Accuracy: \t\t 0.6096\n",
            "**************************************************\n",
            "Current epoch: \t\t 43 / 50\n",
            "Training accuracy: \t 0.89622\n",
            "Test Accuracy: \t\t 0.6103\n",
            "**************************************************\n",
            "Current epoch: \t\t 44 / 50\n",
            "Training accuracy: \t 0.89794\n",
            "Test Accuracy: \t\t 0.6106\n",
            "**************************************************\n",
            "Current epoch: \t\t 45 / 50\n",
            "Training accuracy: \t 0.89812\n",
            "Test Accuracy: \t\t 0.607\n",
            "**************************************************\n",
            "Current epoch: \t\t 46 / 50\n",
            "Training accuracy: \t 0.89934\n",
            "Test Accuracy: \t\t 0.6084\n",
            "**************************************************\n",
            "Current epoch: \t\t 47 / 50\n",
            "Training accuracy: \t 0.90146\n",
            "Test Accuracy: \t\t 0.6096\n",
            "**************************************************\n",
            "Current epoch: \t\t 48 / 50\n",
            "Training accuracy: \t 0.90318\n",
            "Test Accuracy: \t\t 0.6155\n",
            "**************************************************\n",
            "Current epoch: \t\t 49 / 50\n",
            "Training accuracy: \t 0.90682\n",
            "Test Accuracy: \t\t 0.6132\n",
            "**************************************************\n",
            "Current epoch: \t\t 50 / 50\n",
            "Training accuracy: \t 0.90626\n",
            "Test Accuracy: \t\t 0.6131\n",
            "**************************************************\n"
          ],
          "name": "stdout"
        }
      ]
    },
    {
      "cell_type": "code",
      "metadata": {
        "id": "07K2NzceYvg2",
        "colab_type": "code",
        "colab": {
          "base_uri": "https://localhost:8080/",
          "height": 563
        },
        "outputId": "96f8b5cb-741a-4d1f-a4f3-b88bf1bc2a97"
      },
      "source": [
        "fig = plt.figure(figsize=(11,8))\n",
        "ax1 = fig.add_subplot(111)\n",
        "\n",
        "ax1.plot(np.arange(1,num_epochs+1), np.array(train_acc_list)*100, label='CIFAR100 Train Accuracy', color='c', marker='o')\n",
        "ax1.plot(np.arange(1,num_epochs+1), np.array(test_acc_list)*100, label='CIFAR100 Test Accuracy', color='r', marker='o')\n",
        "\n",
        "plt.xlabel('Epochs')\n",
        "plt.ylabel('Accuracy')\n",
        "plt.title('CIFAR100: Train and Test Accuracy')\n",
        "\n",
        "handles, labels = ax1.get_legend_handles_labels()\n",
        "lgd = ax1.legend(handles, labels, loc='upper center', bbox_to_anchor=(1.15,1))\n",
        "ax1.grid('on')"
      ],
      "execution_count": 38,
      "outputs": [
        {
          "output_type": "stream",
          "text": [
            "/usr/local/lib/python3.6/dist-packages/matplotlib/cbook/__init__.py:424: MatplotlibDeprecationWarning: \n",
            "Passing one of 'on', 'true', 'off', 'false' as a boolean is deprecated; use an actual boolean (True/False) instead.\n",
            "  warn_deprecated(\"2.2\", \"Passing one of 'on', 'true', 'off', 'false' as a \"\n"
          ],
          "name": "stderr"
        },
        {
          "output_type": "display_data",
          "data": {
            "image/png": "[encoded data removed]",
            "text/plain": [
              "<Figure size 792x576 with 1 Axes>"
            ]
          },
          "metadata": {
            "tags": []
          }
        }
      ]
    }
  ]
}